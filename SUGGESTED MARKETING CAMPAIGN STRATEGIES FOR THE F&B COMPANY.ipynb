{
 "cells": [
  {
   "attachments": {},
   "cell_type": "markdown",
   "metadata": {},
   "source": [
    "Nama: Dwi Putra Satria utama\n",
    "\n",
    "Dashboard link: https://lookerstudio.google.com/reporting/0a527811-e75e-44ba-9b24-4ffc3bbe75df"
   ]
  },
  {
   "attachments": {},
   "cell_type": "markdown",
   "metadata": {},
   "source": [
    "## Assignment Problems\n",
    "\n",
    "\n",
    "Membuat streategi marketing campaign yang paling efektif untuk keperluan perusahaan F&B"
   ]
  },
  {
   "attachments": {},
   "cell_type": "markdown",
   "metadata": {},
   "source": [
    "## Latar Belakang"
   ]
  },
  {
   "attachments": {},
   "cell_type": "markdown",
   "metadata": {},
   "source": [
    "Industri makanan dan minuman (F&B) seringkali perlu menghadapi tantangan dalam merumuskan strategi pemasaran yang efektif untuk mencapai tujuan bisnis perusahaan. Dalam upaya untuk meningkatkan penjualan dan kesadaran merek, perusahaan F&B perlu memperhatikan beberapa aspek penting, seperti segmentasi pelanggan, pemilihan channel pemasaran yang tepat, dan strategi kampanye yang efektif."
   ]
  },
  {
   "attachments": {},
   "cell_type": "markdown",
   "metadata": {},
   "source": [
    "### Penjabaran Problems\n",
    "\n"
   ]
  },
  {
   "attachments": {},
   "cell_type": "markdown",
   "metadata": {},
   "source": [
    "1. Segmentasi customer apa yang cocok untuk perusahaan F&B?\n",
    "\n",
    "2. Perusahaan menargetkan audience pada usia semua umur, chanel apa yang cocok untuk usia semua umur tersebut?\n",
    "\n",
    "3. Chanel apa yang sekiranya akan mendapatkan conversion rate yang tinggi pada target audience semua umur?\n",
    "\n",
    "4. Berapa rata rata acquisition cost yang diperlukan untuk mendapatkan conversion rate 0.15? (statistika deskriptif, mean)\n",
    "\n",
    "5. Apakah terdapat hubungan conversion rate dengan jumlah klik pada kampanye pemasaran? (statistik inferensial, korelasi)\n",
    "\n",
    "6. Chanel yang tepat pada target audiens all ages agar ROInya tinggi?\n",
    "\n",
    "7. Campaign type yang tepat pada target audiens all ages agar ROInya tinggi?"
   ]
  },
  {
   "cell_type": "code",
   "execution_count": 22,
   "metadata": {},
   "outputs": [],
   "source": [
    "import pandas as pd\n",
    "import matplotlib.pyplot as plt\n",
    "import seaborn as sns\n",
    "from scipy.stats import pearsonr\n",
    "\n"
   ]
  },
  {
   "cell_type": "code",
   "execution_count": 23,
   "metadata": {},
   "outputs": [
    {
     "data": {
      "text/html": [
       "<div>\n",
       "<style scoped>\n",
       "    .dataframe tbody tr th:only-of-type {\n",
       "        vertical-align: middle;\n",
       "    }\n",
       "\n",
       "    .dataframe tbody tr th {\n",
       "        vertical-align: top;\n",
       "    }\n",
       "\n",
       "    .dataframe thead th {\n",
       "        text-align: right;\n",
       "    }\n",
       "</style>\n",
       "<table border=\"1\" class=\"dataframe\">\n",
       "  <thead>\n",
       "    <tr style=\"text-align: right;\">\n",
       "      <th></th>\n",
       "      <th>Campaign_ID</th>\n",
       "      <th>Company</th>\n",
       "      <th>Campaign_Type</th>\n",
       "      <th>Target_Audience</th>\n",
       "      <th>Duration</th>\n",
       "      <th>Channel_Used</th>\n",
       "      <th>Conversion_Rate</th>\n",
       "      <th>Acquisition_Cost</th>\n",
       "      <th>ROI</th>\n",
       "      <th>Location</th>\n",
       "      <th>Language</th>\n",
       "      <th>Clicks</th>\n",
       "      <th>Impressions</th>\n",
       "      <th>Engagement_Score</th>\n",
       "      <th>Customer_Segment</th>\n",
       "      <th>Date</th>\n",
       "    </tr>\n",
       "  </thead>\n",
       "  <tbody>\n",
       "    <tr>\n",
       "      <th>0</th>\n",
       "      <td>1</td>\n",
       "      <td>Innovate Industries</td>\n",
       "      <td>Email</td>\n",
       "      <td>Men 18-24</td>\n",
       "      <td>30 days</td>\n",
       "      <td>Google Ads</td>\n",
       "      <td>0.04</td>\n",
       "      <td>$16,174.00</td>\n",
       "      <td>6.29</td>\n",
       "      <td>Chicago</td>\n",
       "      <td>Spanish</td>\n",
       "      <td>506</td>\n",
       "      <td>1922</td>\n",
       "      <td>6</td>\n",
       "      <td>Health &amp; Wellness</td>\n",
       "      <td>2021-01-01</td>\n",
       "    </tr>\n",
       "    <tr>\n",
       "      <th>1</th>\n",
       "      <td>2</td>\n",
       "      <td>NexGen Systems</td>\n",
       "      <td>Email</td>\n",
       "      <td>Women 35-44</td>\n",
       "      <td>60 days</td>\n",
       "      <td>Google Ads</td>\n",
       "      <td>0.12</td>\n",
       "      <td>$11,566.00</td>\n",
       "      <td>5.61</td>\n",
       "      <td>New York</td>\n",
       "      <td>German</td>\n",
       "      <td>116</td>\n",
       "      <td>7523</td>\n",
       "      <td>7</td>\n",
       "      <td>Fashionistas</td>\n",
       "      <td>2021-01-02</td>\n",
       "    </tr>\n",
       "    <tr>\n",
       "      <th>2</th>\n",
       "      <td>3</td>\n",
       "      <td>Alpha Innovations</td>\n",
       "      <td>Influencer</td>\n",
       "      <td>Men 25-34</td>\n",
       "      <td>30 days</td>\n",
       "      <td>YouTube</td>\n",
       "      <td>0.07</td>\n",
       "      <td>$10,200.00</td>\n",
       "      <td>7.18</td>\n",
       "      <td>Los Angeles</td>\n",
       "      <td>French</td>\n",
       "      <td>584</td>\n",
       "      <td>7698</td>\n",
       "      <td>1</td>\n",
       "      <td>Outdoor Adventurers</td>\n",
       "      <td>2021-01-03</td>\n",
       "    </tr>\n",
       "    <tr>\n",
       "      <th>3</th>\n",
       "      <td>4</td>\n",
       "      <td>DataTech Solutions</td>\n",
       "      <td>Display</td>\n",
       "      <td>All Ages</td>\n",
       "      <td>60 days</td>\n",
       "      <td>YouTube</td>\n",
       "      <td>0.11</td>\n",
       "      <td>$12,724.00</td>\n",
       "      <td>5.55</td>\n",
       "      <td>Miami</td>\n",
       "      <td>Mandarin</td>\n",
       "      <td>217</td>\n",
       "      <td>1820</td>\n",
       "      <td>7</td>\n",
       "      <td>Health &amp; Wellness</td>\n",
       "      <td>2021-01-04</td>\n",
       "    </tr>\n",
       "    <tr>\n",
       "      <th>4</th>\n",
       "      <td>5</td>\n",
       "      <td>NexGen Systems</td>\n",
       "      <td>Email</td>\n",
       "      <td>Men 25-34</td>\n",
       "      <td>15 days</td>\n",
       "      <td>YouTube</td>\n",
       "      <td>0.05</td>\n",
       "      <td>$16,452.00</td>\n",
       "      <td>6.50</td>\n",
       "      <td>Los Angeles</td>\n",
       "      <td>Mandarin</td>\n",
       "      <td>379</td>\n",
       "      <td>4201</td>\n",
       "      <td>3</td>\n",
       "      <td>Health &amp; Wellness</td>\n",
       "      <td>2021-01-05</td>\n",
       "    </tr>\n",
       "    <tr>\n",
       "      <th>...</th>\n",
       "      <td>...</td>\n",
       "      <td>...</td>\n",
       "      <td>...</td>\n",
       "      <td>...</td>\n",
       "      <td>...</td>\n",
       "      <td>...</td>\n",
       "      <td>...</td>\n",
       "      <td>...</td>\n",
       "      <td>...</td>\n",
       "      <td>...</td>\n",
       "      <td>...</td>\n",
       "      <td>...</td>\n",
       "      <td>...</td>\n",
       "      <td>...</td>\n",
       "      <td>...</td>\n",
       "      <td>...</td>\n",
       "    </tr>\n",
       "    <tr>\n",
       "      <th>199995</th>\n",
       "      <td>199996</td>\n",
       "      <td>TechCorp</td>\n",
       "      <td>Display</td>\n",
       "      <td>All Ages</td>\n",
       "      <td>30 days</td>\n",
       "      <td>Google Ads</td>\n",
       "      <td>0.06</td>\n",
       "      <td>$18,365.00</td>\n",
       "      <td>2.84</td>\n",
       "      <td>Chicago</td>\n",
       "      <td>German</td>\n",
       "      <td>858</td>\n",
       "      <td>5988</td>\n",
       "      <td>1</td>\n",
       "      <td>Tech Enthusiasts</td>\n",
       "      <td>2021-12-07</td>\n",
       "    </tr>\n",
       "    <tr>\n",
       "      <th>199996</th>\n",
       "      <td>199997</td>\n",
       "      <td>DataTech Solutions</td>\n",
       "      <td>Email</td>\n",
       "      <td>Men 25-34</td>\n",
       "      <td>15 days</td>\n",
       "      <td>Facebook</td>\n",
       "      <td>0.02</td>\n",
       "      <td>$8,168.00</td>\n",
       "      <td>4.14</td>\n",
       "      <td>Chicago</td>\n",
       "      <td>Spanish</td>\n",
       "      <td>228</td>\n",
       "      <td>3068</td>\n",
       "      <td>7</td>\n",
       "      <td>Foodies</td>\n",
       "      <td>2021-12-08</td>\n",
       "    </tr>\n",
       "    <tr>\n",
       "      <th>199997</th>\n",
       "      <td>199998</td>\n",
       "      <td>DataTech Solutions</td>\n",
       "      <td>Social Media</td>\n",
       "      <td>Men 18-24</td>\n",
       "      <td>45 days</td>\n",
       "      <td>Website</td>\n",
       "      <td>0.05</td>\n",
       "      <td>$13,397.00</td>\n",
       "      <td>3.25</td>\n",
       "      <td>New York</td>\n",
       "      <td>Mandarin</td>\n",
       "      <td>723</td>\n",
       "      <td>9548</td>\n",
       "      <td>3</td>\n",
       "      <td>Tech Enthusiasts</td>\n",
       "      <td>2021-12-09</td>\n",
       "    </tr>\n",
       "    <tr>\n",
       "      <th>199998</th>\n",
       "      <td>199999</td>\n",
       "      <td>Innovate Industries</td>\n",
       "      <td>Influencer</td>\n",
       "      <td>All Ages</td>\n",
       "      <td>30 days</td>\n",
       "      <td>YouTube</td>\n",
       "      <td>0.10</td>\n",
       "      <td>$18,508.00</td>\n",
       "      <td>3.86</td>\n",
       "      <td>Houston</td>\n",
       "      <td>French</td>\n",
       "      <td>528</td>\n",
       "      <td>2763</td>\n",
       "      <td>1</td>\n",
       "      <td>Foodies</td>\n",
       "      <td>2021-12-10</td>\n",
       "    </tr>\n",
       "    <tr>\n",
       "      <th>199999</th>\n",
       "      <td>200000</td>\n",
       "      <td>Innovate Industries</td>\n",
       "      <td>Social Media</td>\n",
       "      <td>Women 35-44</td>\n",
       "      <td>45 days</td>\n",
       "      <td>Google Ads</td>\n",
       "      <td>0.01</td>\n",
       "      <td>$13,835.00</td>\n",
       "      <td>6.64</td>\n",
       "      <td>Chicago</td>\n",
       "      <td>Spanish</td>\n",
       "      <td>924</td>\n",
       "      <td>7287</td>\n",
       "      <td>8</td>\n",
       "      <td>Tech Enthusiasts</td>\n",
       "      <td>2021-12-11</td>\n",
       "    </tr>\n",
       "  </tbody>\n",
       "</table>\n",
       "<p>200000 rows × 16 columns</p>\n",
       "</div>"
      ],
      "text/plain": [
       "        Campaign_ID              Company Campaign_Type Target_Audience  \\\n",
       "0                 1  Innovate Industries         Email       Men 18-24   \n",
       "1                 2       NexGen Systems         Email     Women 35-44   \n",
       "2                 3    Alpha Innovations    Influencer       Men 25-34   \n",
       "3                 4   DataTech Solutions       Display        All Ages   \n",
       "4                 5       NexGen Systems         Email       Men 25-34   \n",
       "...             ...                  ...           ...             ...   \n",
       "199995       199996             TechCorp       Display        All Ages   \n",
       "199996       199997   DataTech Solutions         Email       Men 25-34   \n",
       "199997       199998   DataTech Solutions  Social Media       Men 18-24   \n",
       "199998       199999  Innovate Industries    Influencer        All Ages   \n",
       "199999       200000  Innovate Industries  Social Media     Women 35-44   \n",
       "\n",
       "       Duration Channel_Used  Conversion_Rate Acquisition_Cost   ROI  \\\n",
       "0       30 days   Google Ads             0.04       $16,174.00  6.29   \n",
       "1       60 days   Google Ads             0.12       $11,566.00  5.61   \n",
       "2       30 days      YouTube             0.07       $10,200.00  7.18   \n",
       "3       60 days      YouTube             0.11       $12,724.00  5.55   \n",
       "4       15 days      YouTube             0.05       $16,452.00  6.50   \n",
       "...         ...          ...              ...              ...   ...   \n",
       "199995  30 days   Google Ads             0.06       $18,365.00  2.84   \n",
       "199996  15 days     Facebook             0.02        $8,168.00  4.14   \n",
       "199997  45 days      Website             0.05       $13,397.00  3.25   \n",
       "199998  30 days      YouTube             0.10       $18,508.00  3.86   \n",
       "199999  45 days   Google Ads             0.01       $13,835.00  6.64   \n",
       "\n",
       "           Location  Language  Clicks  Impressions  Engagement_Score  \\\n",
       "0           Chicago   Spanish     506         1922                 6   \n",
       "1          New York    German     116         7523                 7   \n",
       "2       Los Angeles    French     584         7698                 1   \n",
       "3             Miami  Mandarin     217         1820                 7   \n",
       "4       Los Angeles  Mandarin     379         4201                 3   \n",
       "...             ...       ...     ...          ...               ...   \n",
       "199995      Chicago    German     858         5988                 1   \n",
       "199996      Chicago   Spanish     228         3068                 7   \n",
       "199997     New York  Mandarin     723         9548                 3   \n",
       "199998      Houston    French     528         2763                 1   \n",
       "199999      Chicago   Spanish     924         7287                 8   \n",
       "\n",
       "           Customer_Segment        Date  \n",
       "0         Health & Wellness  2021-01-01  \n",
       "1              Fashionistas  2021-01-02  \n",
       "2       Outdoor Adventurers  2021-01-03  \n",
       "3         Health & Wellness  2021-01-04  \n",
       "4         Health & Wellness  2021-01-05  \n",
       "...                     ...         ...  \n",
       "199995     Tech Enthusiasts  2021-12-07  \n",
       "199996              Foodies  2021-12-08  \n",
       "199997     Tech Enthusiasts  2021-12-09  \n",
       "199998              Foodies  2021-12-10  \n",
       "199999     Tech Enthusiasts  2021-12-11  \n",
       "\n",
       "[200000 rows x 16 columns]"
      ]
     },
     "execution_count": 23,
     "metadata": {},
     "output_type": "execute_result"
    }
   ],
   "source": [
    "# Referensi data : https://www.kaggle.com/datasets/manishabhatt22/marketing-campaign-performance-dataset?resource=download\n",
    "\n",
    "# Data loading\n",
    "df = pd.read_csv('C:\\\\.NON SYSTEM WINDOWS\\\\HACKTIV\\\\MILESTONE\\\\marketing_campaign_dataset.csv')\n",
    "df\n"
   ]
  },
  {
   "cell_type": "code",
   "execution_count": 24,
   "metadata": {},
   "outputs": [
    {
     "data": {
      "text/plain": [
       "Campaign_ID         0\n",
       "Company             0\n",
       "Campaign_Type       0\n",
       "Target_Audience     0\n",
       "Duration            0\n",
       "Channel_Used        0\n",
       "Conversion_Rate     0\n",
       "Acquisition_Cost    0\n",
       "ROI                 0\n",
       "Location            0\n",
       "Language            0\n",
       "Clicks              0\n",
       "Impressions         0\n",
       "Engagement_Score    0\n",
       "Customer_Segment    0\n",
       "Date                0\n",
       "dtype: int64"
      ]
     },
     "execution_count": 24,
     "metadata": {},
     "output_type": "execute_result"
    }
   ],
   "source": [
    "# Cek missing values\n",
    "df.isnull().sum()"
   ]
  },
  {
   "attachments": {},
   "cell_type": "markdown",
   "metadata": {},
   "source": [
    "Data clean, tidak ada missing values"
   ]
  },
  {
   "cell_type": "code",
   "execution_count": 25,
   "metadata": {},
   "outputs": [
    {
     "name": "stdout",
     "output_type": "stream",
     "text": [
      "count    200000.000000\n",
      "mean         37.503975\n",
      "std          16.746720\n",
      "min          15.000000\n",
      "25%          30.000000\n",
      "50%          30.000000\n",
      "75%          45.000000\n",
      "max          60.000000\n",
      "Name: Duration, dtype: float64\n"
     ]
    }
   ],
   "source": [
    "# Menghilangkan kata \"day\" dari kolom 'Duration'\n",
    "df['Duration'] = df['Duration'].str.replace(' days', '')\n",
    "\n",
    "# Mengubah tipe data kolom 'Duration' menjadi numerik\n",
    "df['Duration'] = pd.to_numeric(df['Duration'])\n",
    "\n",
    "# Melakukan describe pada kolom 'Duration'\n",
    "description = df['Duration'].describe()\n",
    "\n",
    "print(description)\n"
   ]
  },
  {
   "attachments": {},
   "cell_type": "markdown",
   "metadata": {},
   "source": [
    "### 1. Segmentasi customer apa yang cocok untuk perusahaan F&B?"
   ]
  },
  {
   "cell_type": "code",
   "execution_count": 26,
   "metadata": {},
   "outputs": [
    {
     "data": {
      "text/plain": [
       "array(['Health & Wellness', 'Fashionistas', 'Outdoor Adventurers',\n",
       "       'Foodies', 'Tech Enthusiasts'], dtype=object)"
      ]
     },
     "execution_count": 26,
     "metadata": {},
     "output_type": "execute_result"
    }
   ],
   "source": [
    "# Jenis customer segment yang ada pada data\n",
    "segment = df['Customer_Segment'].unique()\n",
    "segment"
   ]
  },
  {
   "attachments": {},
   "cell_type": "markdown",
   "metadata": {},
   "source": [
    "Berdasarkan analisa, segmentasi yang cocok untuk perusahaan F&B adalah Foodies"
   ]
  },
  {
   "cell_type": "code",
   "execution_count": 27,
   "metadata": {},
   "outputs": [
    {
     "data": {
      "text/html": [
       "<div>\n",
       "<style scoped>\n",
       "    .dataframe tbody tr th:only-of-type {\n",
       "        vertical-align: middle;\n",
       "    }\n",
       "\n",
       "    .dataframe tbody tr th {\n",
       "        vertical-align: top;\n",
       "    }\n",
       "\n",
       "    .dataframe thead th {\n",
       "        text-align: right;\n",
       "    }\n",
       "</style>\n",
       "<table border=\"1\" class=\"dataframe\">\n",
       "  <thead>\n",
       "    <tr style=\"text-align: right;\">\n",
       "      <th></th>\n",
       "      <th>Campaign_ID</th>\n",
       "      <th>Company</th>\n",
       "      <th>Campaign_Type</th>\n",
       "      <th>Target_Audience</th>\n",
       "      <th>Duration</th>\n",
       "      <th>Channel_Used</th>\n",
       "      <th>Conversion_Rate</th>\n",
       "      <th>Acquisition_Cost</th>\n",
       "      <th>ROI</th>\n",
       "      <th>Location</th>\n",
       "      <th>Language</th>\n",
       "      <th>Clicks</th>\n",
       "      <th>Impressions</th>\n",
       "      <th>Engagement_Score</th>\n",
       "      <th>Customer_Segment</th>\n",
       "      <th>Date</th>\n",
       "    </tr>\n",
       "  </thead>\n",
       "  <tbody>\n",
       "    <tr>\n",
       "      <th>5</th>\n",
       "      <td>6</td>\n",
       "      <td>DataTech Solutions</td>\n",
       "      <td>Display</td>\n",
       "      <td>All Ages</td>\n",
       "      <td>15</td>\n",
       "      <td>Instagram</td>\n",
       "      <td>0.07</td>\n",
       "      <td>$9,716.00</td>\n",
       "      <td>4.36</td>\n",
       "      <td>New York</td>\n",
       "      <td>German</td>\n",
       "      <td>100</td>\n",
       "      <td>1643</td>\n",
       "      <td>1</td>\n",
       "      <td>Foodies</td>\n",
       "      <td>2021-01-06</td>\n",
       "    </tr>\n",
       "    <tr>\n",
       "      <th>11</th>\n",
       "      <td>12</td>\n",
       "      <td>Innovate Industries</td>\n",
       "      <td>Influencer</td>\n",
       "      <td>Men 25-34</td>\n",
       "      <td>60</td>\n",
       "      <td>Google Ads</td>\n",
       "      <td>0.05</td>\n",
       "      <td>$17,502.00</td>\n",
       "      <td>3.59</td>\n",
       "      <td>Los Angeles</td>\n",
       "      <td>Mandarin</td>\n",
       "      <td>659</td>\n",
       "      <td>8948</td>\n",
       "      <td>1</td>\n",
       "      <td>Foodies</td>\n",
       "      <td>2021-01-12</td>\n",
       "    </tr>\n",
       "    <tr>\n",
       "      <th>18</th>\n",
       "      <td>19</td>\n",
       "      <td>Alpha Innovations</td>\n",
       "      <td>Social Media</td>\n",
       "      <td>Men 25-34</td>\n",
       "      <td>60</td>\n",
       "      <td>Google Ads</td>\n",
       "      <td>0.07</td>\n",
       "      <td>$19,224.00</td>\n",
       "      <td>6.08</td>\n",
       "      <td>New York</td>\n",
       "      <td>French</td>\n",
       "      <td>182</td>\n",
       "      <td>5798</td>\n",
       "      <td>1</td>\n",
       "      <td>Foodies</td>\n",
       "      <td>2021-01-19</td>\n",
       "    </tr>\n",
       "    <tr>\n",
       "      <th>21</th>\n",
       "      <td>22</td>\n",
       "      <td>TechCorp</td>\n",
       "      <td>Influencer</td>\n",
       "      <td>All Ages</td>\n",
       "      <td>30</td>\n",
       "      <td>Facebook</td>\n",
       "      <td>0.02</td>\n",
       "      <td>$12,824.00</td>\n",
       "      <td>6.21</td>\n",
       "      <td>New York</td>\n",
       "      <td>French</td>\n",
       "      <td>319</td>\n",
       "      <td>8586</td>\n",
       "      <td>2</td>\n",
       "      <td>Foodies</td>\n",
       "      <td>2021-01-22</td>\n",
       "    </tr>\n",
       "    <tr>\n",
       "      <th>27</th>\n",
       "      <td>28</td>\n",
       "      <td>TechCorp</td>\n",
       "      <td>Email</td>\n",
       "      <td>Men 25-34</td>\n",
       "      <td>30</td>\n",
       "      <td>YouTube</td>\n",
       "      <td>0.07</td>\n",
       "      <td>$6,601.00</td>\n",
       "      <td>3.29</td>\n",
       "      <td>New York</td>\n",
       "      <td>Spanish</td>\n",
       "      <td>604</td>\n",
       "      <td>2420</td>\n",
       "      <td>3</td>\n",
       "      <td>Foodies</td>\n",
       "      <td>2021-01-28</td>\n",
       "    </tr>\n",
       "    <tr>\n",
       "      <th>...</th>\n",
       "      <td>...</td>\n",
       "      <td>...</td>\n",
       "      <td>...</td>\n",
       "      <td>...</td>\n",
       "      <td>...</td>\n",
       "      <td>...</td>\n",
       "      <td>...</td>\n",
       "      <td>...</td>\n",
       "      <td>...</td>\n",
       "      <td>...</td>\n",
       "      <td>...</td>\n",
       "      <td>...</td>\n",
       "      <td>...</td>\n",
       "      <td>...</td>\n",
       "      <td>...</td>\n",
       "      <td>...</td>\n",
       "    </tr>\n",
       "    <tr>\n",
       "      <th>199967</th>\n",
       "      <td>199968</td>\n",
       "      <td>NexGen Systems</td>\n",
       "      <td>Influencer</td>\n",
       "      <td>Women 35-44</td>\n",
       "      <td>45</td>\n",
       "      <td>Website</td>\n",
       "      <td>0.05</td>\n",
       "      <td>$18,261.00</td>\n",
       "      <td>6.60</td>\n",
       "      <td>Houston</td>\n",
       "      <td>Mandarin</td>\n",
       "      <td>398</td>\n",
       "      <td>5009</td>\n",
       "      <td>2</td>\n",
       "      <td>Foodies</td>\n",
       "      <td>2021-11-09</td>\n",
       "    </tr>\n",
       "    <tr>\n",
       "      <th>199975</th>\n",
       "      <td>199976</td>\n",
       "      <td>DataTech Solutions</td>\n",
       "      <td>Influencer</td>\n",
       "      <td>Women 35-44</td>\n",
       "      <td>45</td>\n",
       "      <td>Email</td>\n",
       "      <td>0.04</td>\n",
       "      <td>$10,004.00</td>\n",
       "      <td>2.67</td>\n",
       "      <td>Houston</td>\n",
       "      <td>Mandarin</td>\n",
       "      <td>488</td>\n",
       "      <td>9955</td>\n",
       "      <td>1</td>\n",
       "      <td>Foodies</td>\n",
       "      <td>2021-11-17</td>\n",
       "    </tr>\n",
       "    <tr>\n",
       "      <th>199992</th>\n",
       "      <td>199993</td>\n",
       "      <td>DataTech Solutions</td>\n",
       "      <td>Social Media</td>\n",
       "      <td>Men 18-24</td>\n",
       "      <td>30</td>\n",
       "      <td>Instagram</td>\n",
       "      <td>0.10</td>\n",
       "      <td>$12,704.00</td>\n",
       "      <td>6.56</td>\n",
       "      <td>Houston</td>\n",
       "      <td>German</td>\n",
       "      <td>930</td>\n",
       "      <td>6086</td>\n",
       "      <td>4</td>\n",
       "      <td>Foodies</td>\n",
       "      <td>2021-12-04</td>\n",
       "    </tr>\n",
       "    <tr>\n",
       "      <th>199996</th>\n",
       "      <td>199997</td>\n",
       "      <td>DataTech Solutions</td>\n",
       "      <td>Email</td>\n",
       "      <td>Men 25-34</td>\n",
       "      <td>15</td>\n",
       "      <td>Facebook</td>\n",
       "      <td>0.02</td>\n",
       "      <td>$8,168.00</td>\n",
       "      <td>4.14</td>\n",
       "      <td>Chicago</td>\n",
       "      <td>Spanish</td>\n",
       "      <td>228</td>\n",
       "      <td>3068</td>\n",
       "      <td>7</td>\n",
       "      <td>Foodies</td>\n",
       "      <td>2021-12-08</td>\n",
       "    </tr>\n",
       "    <tr>\n",
       "      <th>199998</th>\n",
       "      <td>199999</td>\n",
       "      <td>Innovate Industries</td>\n",
       "      <td>Influencer</td>\n",
       "      <td>All Ages</td>\n",
       "      <td>30</td>\n",
       "      <td>YouTube</td>\n",
       "      <td>0.10</td>\n",
       "      <td>$18,508.00</td>\n",
       "      <td>3.86</td>\n",
       "      <td>Houston</td>\n",
       "      <td>French</td>\n",
       "      <td>528</td>\n",
       "      <td>2763</td>\n",
       "      <td>1</td>\n",
       "      <td>Foodies</td>\n",
       "      <td>2021-12-10</td>\n",
       "    </tr>\n",
       "  </tbody>\n",
       "</table>\n",
       "<p>40208 rows × 16 columns</p>\n",
       "</div>"
      ],
      "text/plain": [
       "        Campaign_ID              Company Campaign_Type Target_Audience  \\\n",
       "5                 6   DataTech Solutions       Display        All Ages   \n",
       "11               12  Innovate Industries    Influencer       Men 25-34   \n",
       "18               19    Alpha Innovations  Social Media       Men 25-34   \n",
       "21               22             TechCorp    Influencer        All Ages   \n",
       "27               28             TechCorp         Email       Men 25-34   \n",
       "...             ...                  ...           ...             ...   \n",
       "199967       199968       NexGen Systems    Influencer     Women 35-44   \n",
       "199975       199976   DataTech Solutions    Influencer     Women 35-44   \n",
       "199992       199993   DataTech Solutions  Social Media       Men 18-24   \n",
       "199996       199997   DataTech Solutions         Email       Men 25-34   \n",
       "199998       199999  Innovate Industries    Influencer        All Ages   \n",
       "\n",
       "        Duration Channel_Used  Conversion_Rate Acquisition_Cost   ROI  \\\n",
       "5             15    Instagram             0.07        $9,716.00  4.36   \n",
       "11            60   Google Ads             0.05       $17,502.00  3.59   \n",
       "18            60   Google Ads             0.07       $19,224.00  6.08   \n",
       "21            30     Facebook             0.02       $12,824.00  6.21   \n",
       "27            30      YouTube             0.07        $6,601.00  3.29   \n",
       "...          ...          ...              ...              ...   ...   \n",
       "199967        45      Website             0.05       $18,261.00  6.60   \n",
       "199975        45        Email             0.04       $10,004.00  2.67   \n",
       "199992        30    Instagram             0.10       $12,704.00  6.56   \n",
       "199996        15     Facebook             0.02        $8,168.00  4.14   \n",
       "199998        30      YouTube             0.10       $18,508.00  3.86   \n",
       "\n",
       "           Location  Language  Clicks  Impressions  Engagement_Score  \\\n",
       "5          New York    German     100         1643                 1   \n",
       "11      Los Angeles  Mandarin     659         8948                 1   \n",
       "18         New York    French     182         5798                 1   \n",
       "21         New York    French     319         8586                 2   \n",
       "27         New York   Spanish     604         2420                 3   \n",
       "...             ...       ...     ...          ...               ...   \n",
       "199967      Houston  Mandarin     398         5009                 2   \n",
       "199975      Houston  Mandarin     488         9955                 1   \n",
       "199992      Houston    German     930         6086                 4   \n",
       "199996      Chicago   Spanish     228         3068                 7   \n",
       "199998      Houston    French     528         2763                 1   \n",
       "\n",
       "       Customer_Segment        Date  \n",
       "5               Foodies  2021-01-06  \n",
       "11              Foodies  2021-01-12  \n",
       "18              Foodies  2021-01-19  \n",
       "21              Foodies  2021-01-22  \n",
       "27              Foodies  2021-01-28  \n",
       "...                 ...         ...  \n",
       "199967          Foodies  2021-11-09  \n",
       "199975          Foodies  2021-11-17  \n",
       "199992          Foodies  2021-12-04  \n",
       "199996          Foodies  2021-12-08  \n",
       "199998          Foodies  2021-12-10  \n",
       "\n",
       "[40208 rows x 16 columns]"
      ]
     },
     "execution_count": 27,
     "metadata": {},
     "output_type": "execute_result"
    }
   ],
   "source": [
    "# Membuat data frame baru bedasarkan customer segment: foodies\n",
    "foodies_data = df.loc[df['Customer_Segment'] == 'Foodies']\n",
    "foodies_data"
   ]
  },
  {
   "attachments": {},
   "cell_type": "markdown",
   "metadata": {},
   "source": [
    "### 2. Perusahaan menargetkan audience pada usia semua umur, chanel apa yang cocok untuk usia semua umur tersebut?"
   ]
  },
  {
   "cell_type": "code",
   "execution_count": 28,
   "metadata": {},
   "outputs": [
    {
     "data": {
      "text/html": [
       "<div>\n",
       "<style scoped>\n",
       "    .dataframe tbody tr th:only-of-type {\n",
       "        vertical-align: middle;\n",
       "    }\n",
       "\n",
       "    .dataframe tbody tr th {\n",
       "        vertical-align: top;\n",
       "    }\n",
       "\n",
       "    .dataframe thead th {\n",
       "        text-align: right;\n",
       "    }\n",
       "</style>\n",
       "<table border=\"1\" class=\"dataframe\">\n",
       "  <thead>\n",
       "    <tr style=\"text-align: right;\">\n",
       "      <th></th>\n",
       "      <th>Channel_Used</th>\n",
       "      <th>Target_Audience</th>\n",
       "      <th>Count</th>\n",
       "    </tr>\n",
       "  </thead>\n",
       "  <tbody>\n",
       "    <tr>\n",
       "      <th>0</th>\n",
       "      <td>Email</td>\n",
       "      <td>All Ages</td>\n",
       "      <td>1348</td>\n",
       "    </tr>\n",
       "    <tr>\n",
       "      <th>1</th>\n",
       "      <td>Facebook</td>\n",
       "      <td>All Ages</td>\n",
       "      <td>1383</td>\n",
       "    </tr>\n",
       "    <tr>\n",
       "      <th>2</th>\n",
       "      <td>Google Ads</td>\n",
       "      <td>All Ages</td>\n",
       "      <td>1339</td>\n",
       "    </tr>\n",
       "    <tr>\n",
       "      <th>3</th>\n",
       "      <td>Instagram</td>\n",
       "      <td>All Ages</td>\n",
       "      <td>1376</td>\n",
       "    </tr>\n",
       "    <tr>\n",
       "      <th>4</th>\n",
       "      <td>Website</td>\n",
       "      <td>All Ages</td>\n",
       "      <td>1354</td>\n",
       "    </tr>\n",
       "    <tr>\n",
       "      <th>5</th>\n",
       "      <td>YouTube</td>\n",
       "      <td>All Ages</td>\n",
       "      <td>1325</td>\n",
       "    </tr>\n",
       "  </tbody>\n",
       "</table>\n",
       "</div>"
      ],
      "text/plain": [
       "  Channel_Used Target_Audience  Count\n",
       "0        Email        All Ages   1348\n",
       "1     Facebook        All Ages   1383\n",
       "2   Google Ads        All Ages   1339\n",
       "3    Instagram        All Ages   1376\n",
       "4      Website        All Ages   1354\n",
       "5      YouTube        All Ages   1325"
      ]
     },
     "execution_count": 28,
     "metadata": {},
     "output_type": "execute_result"
    }
   ],
   "source": [
    "# Mengelompokan berdasarkan campaign chanel dan target audience\n",
    "chanel = foodies_data.groupby(['Channel_Used', 'Target_Audience']).size().reset_index(name='Count')\n",
    "\n",
    "# Memfilter campaign chanel berdasarkan all ages (visualisasikan)\n",
    "chanel_filter = chanel[chanel['Target_Audience'] == 'All Ages'].reset_index(drop=True)\n",
    "chanel_filter"
   ]
  },
  {
   "cell_type": "code",
   "execution_count": 29,
   "metadata": {},
   "outputs": [
    {
     "data": {
      "image/png": "[encoded data removed]",
      "text/plain": [
       "<Figure size 640x480 with 1 Axes>"
      ]
     },
     "metadata": {},
     "output_type": "display_data"
    }
   ],
   "source": [
    "# Membuat visualisasi menggunakan seaborn\n",
    "sns.barplot(data=chanel_filter, x='Channel_Used', y='Count')\n",
    "\n",
    "# Membuat judul\n",
    "plt.title('Campaign Channel Distribution for All Ages')\n",
    "\n",
    "# Memberi nama pada sumbu x\n",
    "plt.xlabel('Channel Used')\n",
    "\n",
    "# Memberi nama pada sumbu y\n",
    "plt.ylabel('Count')\n",
    "\n",
    "# Membuat skala grafik\n",
    "plt.show()"
   ]
  },
  {
   "attachments": {},
   "cell_type": "markdown",
   "metadata": {},
   "source": [
    "Berdasarkan hasil analisis, campaign chanel untuk semua umur menggunakan semua chanel. Mulai dari email, facebook, google ads, instagram, website, youtube. Sehingga perusahaan F&B dapat menggunakan semua chanel untuk keperluan campaign pada target semua umur."
   ]
  },
  {
   "attachments": {},
   "cell_type": "markdown",
   "metadata": {},
   "source": [
    "### 3. Chanel apa yang sekiranya akan mendapatkan conversion rate yang tinggi pada target audience semua umur?"
   ]
  },
  {
   "cell_type": "code",
   "execution_count": 30,
   "metadata": {},
   "outputs": [
    {
     "data": {
      "text/html": [
       "<div>\n",
       "<style scoped>\n",
       "    .dataframe tbody tr th:only-of-type {\n",
       "        vertical-align: middle;\n",
       "    }\n",
       "\n",
       "    .dataframe tbody tr th {\n",
       "        vertical-align: top;\n",
       "    }\n",
       "\n",
       "    .dataframe thead th {\n",
       "        text-align: right;\n",
       "    }\n",
       "</style>\n",
       "<table border=\"1\" class=\"dataframe\">\n",
       "  <thead>\n",
       "    <tr style=\"text-align: right;\">\n",
       "      <th></th>\n",
       "      <th>Channel_Used</th>\n",
       "      <th>Target_Audience</th>\n",
       "      <th>Conversion_Rate</th>\n",
       "      <th>Marketer</th>\n",
       "    </tr>\n",
       "  </thead>\n",
       "  <tbody>\n",
       "    <tr>\n",
       "      <th>0</th>\n",
       "      <td>Instagram</td>\n",
       "      <td>All Ages</td>\n",
       "      <td>0.15</td>\n",
       "      <td>47</td>\n",
       "    </tr>\n",
       "    <tr>\n",
       "      <th>1</th>\n",
       "      <td>Email</td>\n",
       "      <td>All Ages</td>\n",
       "      <td>0.15</td>\n",
       "      <td>46</td>\n",
       "    </tr>\n",
       "    <tr>\n",
       "      <th>2</th>\n",
       "      <td>Facebook</td>\n",
       "      <td>All Ages</td>\n",
       "      <td>0.15</td>\n",
       "      <td>44</td>\n",
       "    </tr>\n",
       "    <tr>\n",
       "      <th>3</th>\n",
       "      <td>Google Ads</td>\n",
       "      <td>All Ages</td>\n",
       "      <td>0.15</td>\n",
       "      <td>44</td>\n",
       "    </tr>\n",
       "    <tr>\n",
       "      <th>4</th>\n",
       "      <td>Website</td>\n",
       "      <td>All Ages</td>\n",
       "      <td>0.15</td>\n",
       "      <td>44</td>\n",
       "    </tr>\n",
       "    <tr>\n",
       "      <th>5</th>\n",
       "      <td>YouTube</td>\n",
       "      <td>All Ages</td>\n",
       "      <td>0.15</td>\n",
       "      <td>39</td>\n",
       "    </tr>\n",
       "  </tbody>\n",
       "</table>\n",
       "</div>"
      ],
      "text/plain": [
       "  Channel_Used Target_Audience  Conversion_Rate  Marketer\n",
       "0    Instagram        All Ages             0.15        47\n",
       "1        Email        All Ages             0.15        46\n",
       "2     Facebook        All Ages             0.15        44\n",
       "3   Google Ads        All Ages             0.15        44\n",
       "4      Website        All Ages             0.15        44\n",
       "5      YouTube        All Ages             0.15        39"
      ]
     },
     "execution_count": 30,
     "metadata": {},
     "output_type": "execute_result"
    }
   ],
   "source": [
    "# Mengelompokan data berdasarkan chanel, audiens, tingkat conversi dengan menjumlah pengguna\n",
    "cr = foodies_data.groupby(['Channel_Used', 'Target_Audience', 'Conversion_Rate']).size().reset_index(name='Marketer')\n",
    "\n",
    "# Memfilter berdasarkan audiens = all ages, conversion = 0.15, dan mengurutkan berdasarkan jumlah marketer tertinggi\n",
    "cr_filter = cr[(cr['Target_Audience'] == 'All Ages') & (cr['Conversion_Rate'] == 0.15)].sort_values('Marketer', ascending=False)\n",
    "\n",
    "# Mereset index\n",
    "cr_filter1 = cr_filter.reset_index(drop=True)\n",
    "cr_filter1\n"
   ]
  },
  {
   "cell_type": "code",
   "execution_count": 31,
   "metadata": {},
   "outputs": [
    {
     "data": {
      "image/png": "[encoded data removed]",
      "text/plain": [
       "<Figure size 800x600 with 1 Axes>"
      ]
     },
     "metadata": {},
     "output_type": "display_data"
    }
   ],
   "source": [
    "# Membuat visualisasi dengan plt\n",
    "plt.figure(figsize=(8, 6))\n",
    "\n",
    "# Menggunakan pie chart danmemberi label\n",
    "plt.pie(cr_filter1['Marketer'], labels=cr_filter1['Channel_Used'], autopct='%1.1f%%')\n",
    "\n",
    "# Memberikan judul\n",
    "plt.title('Distribusi chanel berdasarkan conversion rate = 0.15 pada target audiens All Ages')\n",
    "plt.show()\n"
   ]
  },
  {
   "attachments": {},
   "cell_type": "markdown",
   "metadata": {},
   "source": [
    "Semua chanel memiliki nilai conversion rate yang sama, tetapi instagram digunakan oleh 47 perusahaan dalam pemilihan chanel. Sehingga perusahaan dapat spent lebih banyak ke chanel instagram.\n"
   ]
  },
  {
   "attachments": {},
   "cell_type": "markdown",
   "metadata": {},
   "source": [
    "### 4. Berapa rata rata acquisition cost yang diperlukan untuk mendapatkan conversion rate 0.15 (statistika deskriptif, mean)"
   ]
  },
  {
   "cell_type": "code",
   "execution_count": 32,
   "metadata": {},
   "outputs": [
    {
     "data": {
      "text/plain": [
       "12439.35573411249"
      ]
     },
     "execution_count": 32,
     "metadata": {},
     "output_type": "execute_result"
    }
   ],
   "source": [
    "# Mengelompokan data\n",
    "r_cost = foodies_data.groupby(['Conversion_Rate', 'Acquisition_Cost']).size().reset_index()\n",
    "\n",
    "# Menghilangkan kolom index\n",
    "r_cost = r_cost.drop(r_cost.columns[2], axis=1)\n",
    "\n",
    "# Memfilter conversion rate = 0.15\n",
    "r_cost = r_cost[r_cost['Conversion_Rate'] == 0.15]\n",
    "\n",
    "# Mengubah kolom Acquisition_Cost menjadi numerik dengan menghapus karakter non-numeric\n",
    "r_cost['Acquisition_Cost'] = r_cost['Acquisition_Cost'].str.replace('$', '').str.replace(',', '').astype(float)\n",
    "\n",
    "# Menghitung rata-rata acquisition cost\n",
    "r_cost = r_cost['Acquisition_Cost'].mean()\n",
    "\n",
    "\n",
    "r_cost\n"
   ]
  },
  {
   "cell_type": "code",
   "execution_count": 33,
   "metadata": {},
   "outputs": [
    {
     "data": {
      "image/png": "[encoded data removed]",
      "text/plain": [
       "<Figure size 640x480 with 1 Axes>"
      ]
     },
     "metadata": {},
     "output_type": "display_data"
    }
   ],
   "source": [
    "r_cost = foodies_data.groupby(['Conversion_Rate', 'Acquisition_Cost']).size().reset_index()\n",
    "r_cost = r_cost.drop(r_cost.columns[2], axis=1)\n",
    "r_cost = r_cost[r_cost['Conversion_Rate'] == 0.15]\n",
    "r_cost['Acquisition_Cost'] = r_cost['Acquisition_Cost'].str.replace('$', '').str.replace(',', '').astype(float)\n",
    "mean_acquisition_cost = r_cost['Acquisition_Cost'].mean()\n",
    "\n",
    "plt.hist(r_cost['Acquisition_Cost'], bins=10)\n",
    "plt.axvline(mean_acquisition_cost, color='red', linestyle='--', label='Mean Acquisition Cost')\n",
    "plt.xlabel('Acquisition Cost')\n",
    "plt.ylabel('Jumlah Data')\n",
    "plt.title('Acquisition Cost for Conversion Rate 0.15')\n",
    "plt.legend()\n",
    "plt.show()\n"
   ]
  },
  {
   "attachments": {},
   "cell_type": "markdown",
   "metadata": {},
   "source": [
    "Berdasarkan perhitungan rata rata, acquisition cost yang diperlukan untuk mendapatkan nilai conversi rate = 0.15 sebesar $12439. Sehingga perusahaan dapat melakukan budgeting sebesar $12439 untuk mendapatkan nilai conversion rate = 0.15"
   ]
  },
  {
   "attachments": {},
   "cell_type": "markdown",
   "metadata": {},
   "source": [
    "### 5. Apakah terdapat hubungan conversion rate dengan jumlah klik pada kampanye pemasaran? (statistik inferensial, korelasi)\n"
   ]
  },
  {
   "attachments": {},
   "cell_type": "markdown",
   "metadata": {},
   "source": [
    "\n",
    "Tujuan analisis: Menganalisis apakah ada hubungan linier yang signifikan antara conversion rate dengan jumlah klik dalam kampanye pemasaran."
   ]
  },
  {
   "attachments": {},
   "cell_type": "markdown",
   "metadata": {},
   "source": [
    "H0 (Hipotesis Nol): Tidak ada hubungan linier yang signifikan antara Conversion Rate dan jumlah klik dalam kampanye pemasaran.\n",
    "\n",
    "H1 (Hipotesis Alternatif): Terdapat hubungan linier yang signifikan antara Conversion Rate dan jumlah klik dalam kampanye pemasaran."
   ]
  },
  {
   "cell_type": "code",
   "execution_count": 34,
   "metadata": {},
   "outputs": [
    {
     "name": "stdout",
     "output_type": "stream",
     "text": [
      "Koefisien Korelasi: 0.004611167322762127\n",
      "P-value: 0.35517175890985025\n"
     ]
    }
   ],
   "source": [
    "# Menghitung koefisien korelasi dan p-value antara Acquisition Cost dan Clicks\n",
    "Conversion_Rate = foodies_data['Conversion_Rate']\n",
    "Clicks = foodies_data['Clicks']\n",
    "correlation, p_value = pearsonr(Conversion_Rate, Clicks)\n",
    "\n",
    "print('Koefisien Korelasi:', correlation)\n",
    "print('P-value:', p_value)\n"
   ]
  },
  {
   "cell_type": "code",
   "execution_count": null,
   "metadata": {},
   "outputs": [],
   "source": []
  },
  {
   "cell_type": "code",
   "execution_count": 21,
   "metadata": {},
   "outputs": [
    {
     "data": {
      "image/png": "[encoded data removed]",
      "text/plain": [
       "<Figure size 640x480 with 1 Axes>"
      ]
     },
     "metadata": {},
     "output_type": "display_data"
    }
   ],
   "source": [
    "Conversion_Rate = foodies_data['Conversion_Rate']\n",
    "Clicks = foodies_data['Clicks']\n",
    "\n",
    "plt.scatter(Conversion_Rate, Clicks)\n",
    "plt.xlabel('Conversion_Rate')\n",
    "plt.ylabel('Clicks')\n",
    "plt.title('Conversion Rate & Clicks')\n",
    "plt.show()\n"
   ]
  },
  {
   "attachments": {},
   "cell_type": "markdown",
   "metadata": {},
   "source": [
    "Berdasarkan hasil analisis korelasi antara conversion rate dan jumlah klik dalam kampanye pemasaran, diperoleh koefisien korelasi sebesar 0.0046. Nilai koefisien korelasi yang mendekati nol menunjukkan bahwa terdapat hubungan yang sangat lemah antara conversion rate dan jumlah klik.\n",
    "\n",
    "Selain itu, p-value yang diperoleh sebesar 0.3552, yang lebih besar dari tingkat signifikansi yang umumnya digunakan (biasanya 0.05). P-value yang besar menunjukkan bahwa tidak cukup bukti untuk menolak hipotesis nol, yang menyatakan bahwa tidak ada hubungan linier yang signifikan antara conversion rate dan jumlah klik.\n",
    "\n",
    "Oleh karena itu, tidak ada hubungan yang kuat antara tingkat konversi dan jumlah klik. Faktor-faktor lain kemungkinan lebih mempengaruhi tingkat konversi dalam kampanye pemasaran yang diteliti seperti kualitas konten, dll."
   ]
  },
  {
   "attachments": {},
   "cell_type": "markdown",
   "metadata": {},
   "source": [
    "### 6. Chanel yang tepat pada target audiens all ages agar ROInya tinggi"
   ]
  },
  {
   "cell_type": "code",
   "execution_count": 15,
   "metadata": {},
   "outputs": [
    {
     "data": {
      "text/html": [
       "<div>\n",
       "<style scoped>\n",
       "    .dataframe tbody tr th:only-of-type {\n",
       "        vertical-align: middle;\n",
       "    }\n",
       "\n",
       "    .dataframe tbody tr th {\n",
       "        vertical-align: top;\n",
       "    }\n",
       "\n",
       "    .dataframe thead th {\n",
       "        text-align: right;\n",
       "    }\n",
       "</style>\n",
       "<table border=\"1\" class=\"dataframe\">\n",
       "  <thead>\n",
       "    <tr style=\"text-align: right;\">\n",
       "      <th></th>\n",
       "      <th>Channel_Used</th>\n",
       "      <th>ROI</th>\n",
       "    </tr>\n",
       "  </thead>\n",
       "  <tbody>\n",
       "    <tr>\n",
       "      <th>0</th>\n",
       "      <td>Email</td>\n",
       "      <td>8.00</td>\n",
       "    </tr>\n",
       "    <tr>\n",
       "      <th>3</th>\n",
       "      <td>Instagram</td>\n",
       "      <td>8.00</td>\n",
       "    </tr>\n",
       "    <tr>\n",
       "      <th>4</th>\n",
       "      <td>Website</td>\n",
       "      <td>8.00</td>\n",
       "    </tr>\n",
       "    <tr>\n",
       "      <th>5</th>\n",
       "      <td>YouTube</td>\n",
       "      <td>8.00</td>\n",
       "    </tr>\n",
       "    <tr>\n",
       "      <th>1</th>\n",
       "      <td>Facebook</td>\n",
       "      <td>7.99</td>\n",
       "    </tr>\n",
       "    <tr>\n",
       "      <th>2</th>\n",
       "      <td>Google Ads</td>\n",
       "      <td>7.96</td>\n",
       "    </tr>\n",
       "  </tbody>\n",
       "</table>\n",
       "</div>"
      ],
      "text/plain": [
       "  Channel_Used   ROI\n",
       "0        Email  8.00\n",
       "3    Instagram  8.00\n",
       "4      Website  8.00\n",
       "5      YouTube  8.00\n",
       "1     Facebook  7.99\n",
       "2   Google Ads  7.96"
      ]
     },
     "execution_count": 15,
     "metadata": {},
     "output_type": "execute_result"
    }
   ],
   "source": [
    "# Membuat data hanya berisi target audiens = all ages\n",
    "roi = foodies_data[foodies_data['Target_Audience'] == 'All Ages']\n",
    "\n",
    "# Mengelompokkan data\n",
    "roi = roi.groupby('Channel_Used')['ROI'].max().reset_index()\n",
    "\n",
    "# Mengurutkan data\n",
    "roi = roi.sort_values('ROI', ascending=False)\n",
    "roi\n"
   ]
  },
  {
   "cell_type": "code",
   "execution_count": 16,
   "metadata": {},
   "outputs": [
    {
     "data": {
      "image/png": "[encoded data removed]",
      "text/plain": [
       "<Figure size 1000x600 with 1 Axes>"
      ]
     },
     "metadata": {},
     "output_type": "display_data"
    }
   ],
   "source": [
    "# Memvisualisasikan data\n",
    "plt.figure(figsize=(10, 6))\n",
    "\n",
    "# Membuat barplot dan menggunakan data untuk sumbu x dan y\n",
    "sns.barplot(x='Channel_Used', y='ROI', data=roi)\n",
    "\n",
    "# Memberi nama sumbu x\n",
    "plt.xlabel('Channel Used')\n",
    "\n",
    "# Memberi nama sumbu y\n",
    "plt.ylabel('Average ROI')\n",
    "\n",
    "# Memberi judul\n",
    "plt.title('Channel yang digunakan pada target audiens all ages berdasarkan ROI')\n",
    "\n",
    "# Skala grafik\n",
    "plt.ylim(7.95, 8.01)\n",
    "plt.show()\n"
   ]
  },
  {
   "attachments": {},
   "cell_type": "markdown",
   "metadata": {},
   "source": [
    "Berdasarkan analisis, perusahaan dapat fokus menggunakan chanel seperti Email, Instagram, Websitem, YouTube pada target audiens semua usia untuk dapat meningkatkan ROI kampanye pemasaran. Channel Facebook dan google ads dapat menjadi pertimbangan untuk kegiatan pemasaran."
   ]
  },
  {
   "attachments": {},
   "cell_type": "markdown",
   "metadata": {},
   "source": [
    "### 7. Campaign type yang tepat pada target audiens all ages agar ROInya tinggi?"
   ]
  },
  {
   "cell_type": "code",
   "execution_count": 17,
   "metadata": {},
   "outputs": [
    {
     "data": {
      "text/html": [
       "<div>\n",
       "<style scoped>\n",
       "    .dataframe tbody tr th:only-of-type {\n",
       "        vertical-align: middle;\n",
       "    }\n",
       "\n",
       "    .dataframe tbody tr th {\n",
       "        vertical-align: top;\n",
       "    }\n",
       "\n",
       "    .dataframe thead th {\n",
       "        text-align: right;\n",
       "    }\n",
       "</style>\n",
       "<table border=\"1\" class=\"dataframe\">\n",
       "  <thead>\n",
       "    <tr style=\"text-align: right;\">\n",
       "      <th></th>\n",
       "      <th>Campaign_Type</th>\n",
       "      <th>ROI</th>\n",
       "    </tr>\n",
       "  </thead>\n",
       "  <tbody>\n",
       "    <tr>\n",
       "      <th>0</th>\n",
       "      <td>Display</td>\n",
       "      <td>8.00</td>\n",
       "    </tr>\n",
       "    <tr>\n",
       "      <th>2</th>\n",
       "      <td>Influencer</td>\n",
       "      <td>8.00</td>\n",
       "    </tr>\n",
       "    <tr>\n",
       "      <th>4</th>\n",
       "      <td>Social Media</td>\n",
       "      <td>8.00</td>\n",
       "    </tr>\n",
       "    <tr>\n",
       "      <th>1</th>\n",
       "      <td>Email</td>\n",
       "      <td>7.99</td>\n",
       "    </tr>\n",
       "    <tr>\n",
       "      <th>3</th>\n",
       "      <td>Search</td>\n",
       "      <td>7.99</td>\n",
       "    </tr>\n",
       "  </tbody>\n",
       "</table>\n",
       "</div>"
      ],
      "text/plain": [
       "  Campaign_Type   ROI\n",
       "0       Display  8.00\n",
       "2    Influencer  8.00\n",
       "4  Social Media  8.00\n",
       "1         Email  7.99\n",
       "3        Search  7.99"
      ]
     },
     "execution_count": 17,
     "metadata": {},
     "output_type": "execute_result"
    }
   ],
   "source": [
    "ctype = foodies_data[foodies_data['Target_Audience'] == 'All Ages']\n",
    "ctype = ctype.groupby('Campaign_Type')['ROI'].max().reset_index()\n",
    "ctype = ctype.sort_values('ROI', ascending=False)\n",
    "ctype\n"
   ]
  },
  {
   "cell_type": "code",
   "execution_count": 18,
   "metadata": {},
   "outputs": [
    {
     "data": {
      "image/png": "[encoded data removed]",
      "text/plain": [
       "<Figure size 1000x600 with 1 Axes>"
      ]
     },
     "metadata": {},
     "output_type": "display_data"
    }
   ],
   "source": [
    "plt.figure(figsize=(10, 6))\n",
    "sns.barplot(x='Campaign_Type', y='ROI', data=ctype)\n",
    "plt.ylabel('Average ROI')\n",
    "plt.xlabel('Campaign Type')\n",
    "plt.title('Campaign type yang digunakan pada target audiens all ages berdasarkan ROI')\n",
    "plt.ylim(7.95, 8.01)\n",
    "plt.show()\n"
   ]
  },
  {
   "attachments": {},
   "cell_type": "markdown",
   "metadata": {},
   "source": [
    "Berdasarkan analisa, perusahaan dapat mempertimbangkan penggunaan campaign type display dan influencer sebagai pilihan utama, diikuti oleh social media dan email. Penggunaan search dapat dipertimbangkan sebagai opsi tambahan dalam kampanye yang ditujukan kepada target audiens all ages."
   ]
  },
  {
   "attachments": {},
   "cell_type": "markdown",
   "metadata": {},
   "source": [
    "# Kesimpulan"
   ]
  },
  {
   "attachments": {},
   "cell_type": "markdown",
   "metadata": {},
   "source": [
    "Berdasarkan analisis yang dilakukan, terdapat beberapa kesimpulan dan insight yang dapat diambil untuk perusahaan F&B:\n",
    "\n",
    "    1. Segmentasi yang paling cocok untuk perusahaan F&B adalah Foodies, yang merupakan segmen khusus untuk target audiens yang tertarik dengan makanan dan minuman.\n",
    "\n",
    "    2. Dalam kampanye pemasaran yang ditujukan kepada target audiens semua usia, perusahaan dapat menggunakan berbagai channel seperti email, Facebook, Google Ads, Instagram, website, dan YouTube. Penggunaan semua channel ini akan membantu perusahaan mencapai audiens yang lebih luas.\n",
    "\n",
    "    3. Meskipun semua channel memiliki conversion rate yang sama, Instagram merupakan channel yang paling banyak digunakan oleh 47 perusahaan dalam memilih channel. Oleh karena itu, perusahaan dapat mengalokasikan lebih banyak sumber daya dan dana untuk kampanye melalui Instagram.\n",
    "\n",
    "    4. Berdasarkan perhitungan rata-rata, perusahaan perlu mengalokasikan anggaran sekitar $12,439 untuk mencapai conversion rate sebesar 0.15. Anggaran ini dapat membantu perusahaan mencapai tujuan kampanye dengan tingkat konversi yang diharapkan.\n",
    "\n",
    "    5. Analisis korelasi antara conversion rate dan jumlah klik menunjukkan bahwa hubungan antara keduanya sangat lemah. P-value yang lebih besar dari tingkat signifikansi menunjukkan bahwa tidak ada hubungan linier yang signifikan antara conversion rate dan jumlah klik. Oleh karena itu, perusahaan perlu mempertimbangkan faktor-faktor lain seperti kualitas konten dan strategi pemasaran yang lebih holistik untuk meningkatkan tingkat konversi.\n",
    "\n",
    "    6. Berdasarkan analisis ROI tertinggi, perusahaan dapat fokus menggunakan chanel seperti Email, Instagram, Websitem, YouTube pada target audiens semua usia untuk dapat meningkatkan ROI kampanye pemasaran. Channel Facebook dan google ads dapat menjadi pertimbangan untuk kegiatan pemasaran.\n",
    "\n",
    "    7. Campaign type yang direkomendasikan adalah display dan influencer sebagai pilihan utama, diikuti oleh social media dan email. Penggunaan search dapat dipertimbangkan sebagai opsi tambahan dalam kampanye yang ditujukan kepada target audiens all ages.\n",
    "\n",
    "Secara keseluruhan, perusahaan F&B perlu mempertimbangkan penggunaan channel yang tepat, mengalokasikan anggaran yang memadai, dan mengadopsi strategi pemasaran yang lebih holistik untuk mencapai tingkat konversi yang diharapkan dan meningkatkan ROI kampanye pemasaran."
   ]
  }
 ],
 "metadata": {
  "kernelspec": {
   "display_name": "base",
   "language": "python",
   "name": "python3"
  },
  "language_info": {
   "codemirror_mode": {
    "name": "ipython",
    "version": 3
   },
   "file_extension": ".py",
   "mimetype": "text/x-python",
   "name": "python",
   "nbconvert_exporter": "python",
   "pygments_lexer": "ipython3",
   "version": "3.9.16"
  },
  "orig_nbformat": 4
 },
 "nbformat": 4,
 "nbformat_minor": 2
}
